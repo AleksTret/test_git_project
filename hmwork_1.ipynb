{
 "cells": [
  {
   "cell_type": "markdown",
   "id": "443dc530",
   "metadata": {},
   "source": [
    "##### Задание 1\n",
    "\n",
    "Переведите содержимое файла `purchase_log.txt` в словарь `purchases` вида:\n",
    "\n",
    "```python\n",
    "{'1840e0b9d4': 'Продукты', ...}\n",
    "```\n",
    "\n",
    "Пример работы программы при выводе первых двух элементов словаря purchases:\n",
    "```python\n",
    "1840e0b9d4 'Продукты'\n",
    "4e4f90fcfb 'Электроника'\n",
    "```"
   ]
  },
  {
   "cell_type": "code",
   "execution_count": 2,
   "id": "7c1bbe03",
   "metadata": {},
   "outputs": [
    {
     "name": "stdout",
     "output_type": "stream",
     "text": [
      "1840e0b9d4 'Продукты'\n",
      "4e4f90fcfb 'Электроника'\n"
     ]
    }
   ],
   "source": [
    "import json\n",
    "\n",
    "purchases = {}\n",
    "\n",
    "with open('./assets/hmwork_1/purchase_log.txt', 'r', encoding='utf-8') as file:\n",
    "    next(file)\n",
    "    for line in file:\n",
    "        data = json.loads(line.strip())\n",
    "        purchases[data['user_id']] = data['category']\n",
    "\n",
    "for i, (user_id, category) in enumerate(purchases.items()):\n",
    "    if i < 2:\n",
    "        print(f\"{user_id} '{category}'\")"
   ]
  },
  {
   "cell_type": "markdown",
   "id": "c3acf4f5",
   "metadata": {},
   "source": [
    "##### Задание 2 (необязательное)\n",
    "\n",
    "Для каждого `user_id` в файле `visit_log.csv` определите третий столбец с категорией покупки. \n",
    "Если покупка была, сам файл `visit_log.csv` изменять не надо.\n",
    "\n",
    "Запишите в файл `funnel.csv` визиты из файла `visit_log.csv`, в которых были покупки с указанием категории.\n",
    "\n",
    "**Учтите условия для данных:**\n",
    "- содержимое `purchase_log.txt` помещается в оперативную память компьютера;\n",
    "- содержимое `visit_log.csv` — нет, используйте только построчную обработку этого файла.\n",
    "\n",
    "Примеры работы программы при выводе первых трёх строк файла `funnel.csv`:\n",
    "```python\n",
    "user_id,source,category\n",
    "1840e0b9d4,other,Продукты\n",
    "4e4f90fcfb,context,Электроника\n",
    "```"
   ]
  },
  {
   "cell_type": "code",
   "execution_count": 6,
   "id": "701cd795",
   "metadata": {},
   "outputs": [],
   "source": [
    "import json\n",
    "import csv\n",
    "\n",
    "# Шаг 1: Загрузить purchase_log.txt в словарь {user_id: category}\n",
    "purchase_dict = {}\n",
    "with open('./assets/hmwork_1/purchase_log.txt', 'r', encoding='utf-8') as f:\n",
    "    # Первая строка - заголовок в формате JSON, пропустим\n",
    "    next(f)\n",
    "    for line in f:\n",
    "        data = json.loads(line)\n",
    "        user_id = data.get('user_id')\n",
    "        category = data.get('category')\n",
    "        if user_id and category:\n",
    "            purchase_dict[user_id] = category\n",
    "\n",
    "# Шаг 2: Обработать visit_log.csv построчно, записать в funnel.csv только с покупками\n",
    "with open('./assets/hmwork_1/visit_log.csv', 'r', encoding='utf-8') as visit_file, \\\n",
    "     open('./assets/hmwork_1/funnel.csv', 'w', encoding='utf-8', newline='') as funnel_file:\n",
    "\n",
    "    reader = csv.reader(visit_file)\n",
    "    writer = csv.writer(funnel_file)\n",
    "\n",
    "    # Записать заголовок\n",
    "    writer.writerow(['user_id', 'source', 'category'])\n",
    "\n",
    "    for row in reader:\n",
    "        if len(row) < 2:\n",
    "            continue  # пропускаем некорректные строки\n",
    "        user_id, source = row[0], row[1]\n",
    "        if user_id in purchase_dict:\n",
    "            category = purchase_dict[user_id]\n",
    "            writer.writerow([user_id, source, category])\n"
   ]
  }
 ],
 "metadata": {
  "kernelspec": {
   "display_name": "hmw_python_de",
   "language": "python",
   "name": "python3"
  },
  "language_info": {
   "codemirror_mode": {
    "name": "ipython",
    "version": 3
   },
   "file_extension": ".py",
   "mimetype": "text/x-python",
   "name": "python",
   "nbconvert_exporter": "python",
   "pygments_lexer": "ipython3",
   "version": "3.13.7"
  }
 },
 "nbformat": 4,
 "nbformat_minor": 5
}
